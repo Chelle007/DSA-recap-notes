{
  "nbformat": 4,
  "nbformat_minor": 0,
  "metadata": {
    "colab": {
      "provenance": [],
      "toc_visible": true
    },
    "kernelspec": {
      "name": "python3",
      "display_name": "Python 3"
    },
    "language_info": {
      "name": "python"
    }
  },
  "cells": [
    {
      "cell_type": "code",
      "source": [
        "# Cell 1: Install specific library versions\n",
        "!pip install pandas==1.5.3 \\\n",
        "                numpy==1.24.2 \\\n",
        "                sqlalchemy==2.0.8 \\\n",
        "                scikit-learn==1.2.2 \\\n",
        "                matplotlib==3.7.1 \\\n",
        "                seaborn==0.12.2 \\\n",
        "                gradio==4.44.1\n"
      ],
      "metadata": {
        "id": "rdcIZ1nrWPoM"
      },
      "execution_count": null,
      "outputs": []
    },
    {
      "cell_type": "code",
      "source": [
        "# Cell 2: Imports & styling\n",
        "import pandas as pd\n",
        "import numpy as np\n",
        "import matplotlib.pyplot as plt\n",
        "import sqlite3\n",
        "from sqlalchemy import create_engine\n",
        "\n",
        "from sklearn.model_selection import train_test_split, GridSearchCV\n",
        "from sklearn.preprocessing import StandardScaler\n",
        "from sklearn.pipeline import Pipeline\n",
        "from sklearn.linear_model import LogisticRegression\n",
        "from sklearn.naive_bayes import GaussianNB, BernoulliNB\n",
        "from sklearn.discriminant_analysis import LinearDiscriminantAnalysis as LDA, QuadraticDiscriminantAnalysis as QDA\n",
        "from sklearn.ensemble import RandomForestClassifier, GradientBoostingClassifier, AdaBoostClassifier\n",
        "from sklearn.metrics import classification_report, roc_auc_score, roc_curve, accuracy_score\n",
        "\n",
        "import gradio as gr\n",
        "import seaborn as sns\n",
        "\n",
        "# Use default matplotlib style for simplicity\n",
        "plt.style.use('default')\n"
      ],
      "metadata": {
        "id": "cZODqcyTWP-2"
      },
      "execution_count": null,
      "outputs": []
    }
  ]
}